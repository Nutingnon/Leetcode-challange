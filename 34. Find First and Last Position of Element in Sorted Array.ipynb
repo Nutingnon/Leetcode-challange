{
 "cells": [
  {
   "cell_type": "markdown",
   "metadata": {},
   "source": [
    "https://leetcode.com/problems/find-first-and-last-position-of-element-in-sorted-array/"
   ]
  },
  {
   "cell_type": "markdown",
   "metadata": {},
   "source": [
    "\n",
    "Given an array of integers nums sorted in ascending order, find the starting and ending position of a given target value.\n",
    "\n",
    "Your algorithm's runtime complexity must be in the order of O(log n).\n",
    "\n",
    "If the target is not found in the array, return [-1, -1].\n",
    "\n",
    "Example 1:\n",
    "\n",
    "Input: nums = [5,7,7,8,8,10], target = 8\n",
    "Output: [3,4]\n",
    "Example 2:\n",
    "\n",
    "Input: nums = [5,7,7,8,8,10], target = 6\n",
    "Output: [-1,-1]"
   ]
  },
  {
   "cell_type": "markdown",
   "metadata": {},
   "source": [
    "# 1\n",
    "\n",
    "https://leetcode.com/problems/find-first-and-last-position-of-element-in-sorted-array/discuss/375917/Simple-Python-solution-beats-99."
   ]
  },
  {
   "cell_type": "code",
   "execution_count": 1,
   "metadata": {},
   "outputs": [],
   "source": [
    "def searchRange(nums, target):\n",
    "    lo, hi = 0, len(nums)-1\n",
    "    res = []\n",
    "    while(lo <= hi):\n",
    "        mid = lo + (hi-lo)//2\n",
    "        if(target == nums[mid]):\n",
    "            i = mid\n",
    "            while(i >= 0 and nums[i] == target):\n",
    "                i -= 1\n",
    "            res.append(i+1)\n",
    "            i = mid\n",
    "            while(i < len(nums) and nums[i] == target):\n",
    "                i += 1\n",
    "            res.append(i-1)\n",
    "            return res\n",
    "        elif(target < nums[mid]):\n",
    "            hi = mid - 1\n",
    "        else:\n",
    "            lo = mid + 1\n",
    "    return [-1,-1]"
   ]
  },
  {
   "cell_type": "markdown",
   "metadata": {},
   "source": [
    "# 2. Fastest man"
   ]
  },
  {
   "cell_type": "code",
   "execution_count": null,
   "metadata": {},
   "outputs": [],
   "source": [
    "def binarySearch(nums, target, left):\n",
    "    l, r = 0, len(nums) # r = len(nums)\n",
    "    while l < r: # because the r = len(nums), so the l is always less than r\n",
    "        m = (l+r)//2 # get the middle index\n",
    "        if nums[m] > target or (left and nums[m] == target): \n",
    "            # if middle index > target, or it equals m and keep finding the most left mode is on\n",
    "            # let r = m\n",
    "            r = m\n",
    "        else:\n",
    "            # even the middle index == target, if it is not finding the most left index,\n",
    "            # keep updating l to find the most right index.\n",
    "            # if nums[m] < target, keep update the l. \n",
    "            # stop updating untill l >= r. \n",
    "            l = m + 1\n",
    "    return l\n",
    "\n",
    "def searchRange(nums, target):\n",
    "    l = self.binarySearch(nums, target, left=True)\n",
    "    r = self.binarySearch(nums, target, left=False)\n",
    "    if l == len(nums) or nums[l] != target:\n",
    "        return [-1,-1]\n",
    "    else:\n",
    "        return [l, r-1]"
   ]
  },
  {
   "cell_type": "markdown",
   "metadata": {},
   "source": [
    "# Easy to Understand"
   ]
  },
  {
   "cell_type": "code",
   "execution_count": 4,
   "metadata": {},
   "outputs": [],
   "source": [
    "def searchRange(nums, target):\n",
    "    lo = 0\n",
    "    hi = len(nums)\n",
    "    while hi > lo:\n",
    "        mid = (lo + hi) // 2\n",
    "        if nums[mid] >= target:\n",
    "            hi = mid\n",
    "        else:\n",
    "            lo = mid + 1\n",
    "    if lo == len(nums) or nums[lo] != target:\n",
    "        return [-1, -1]\n",
    "    l = lo\n",
    "    hi = len(nums) - 1\n",
    "    while hi - lo > 1:\n",
    "        mid = (lo + hi) // 2\n",
    "        if nums[mid] > target:\n",
    "            hi = mid\n",
    "        else:\n",
    "            lo = mid\n",
    "    return [l, lo]"
   ]
  },
  {
   "cell_type": "code",
   "execution_count": 84,
   "metadata": {},
   "outputs": [],
   "source": [
    "# 仿写一遍\n",
    "def searchRange_imitage(nums, target):\n",
    "    low = 0\n",
    "    high = len(nums)-1\n",
    "    while low <= high:\n",
    "        mid = (low+high)//2\n",
    "        if nums[mid]>=target:\n",
    "            high = mid - 1\n",
    "        else:\n",
    "            low = mid + 1\n",
    "        print(\"low: {}, high:{}\".format(low, high))\n",
    "    if low >= len(nums) or nums[low]!=target:\n",
    "        return [-1,-1]\n",
    "    l = low\n",
    "    # find the right edge\n",
    "    high = len(nums) - 1\n",
    "    while high - low >= 0:\n",
    "        mid = (low+high) // 2\n",
    "        if nums[mid] > target:\n",
    "            high = mid - 1\n",
    "        else:\n",
    "            low = mid+1\n",
    "        mid = (low+high)//2\n",
    "        print(\"------low: {}, high:{}, mid: {}\".format(low, high, mid))\n",
    "    return [l, mid]"
   ]
  },
  {
   "cell_type": "code",
   "execution_count": 85,
   "metadata": {
    "scrolled": true
   },
   "outputs": [
    {
     "name": "stdout",
     "output_type": "stream",
     "text": [
      "low: 0, high:-1\n",
      "------low: 1, high:0, mid: 0\n",
      "[0, 0]\n",
      "==================================================\n",
      "low: 0, high:-1\n",
      "------low: 1, high:1, mid: 1\n",
      "------low: 2, high:1, mid: 1\n",
      "[0, 1]\n",
      "==================================================\n",
      "low: 3, high:5\n",
      "low: 3, high:3\n",
      "low: 3, high:2\n",
      "------low: 5, high:5, mid: 5\n",
      "------low: 5, high:4, mid: 4\n",
      "[3, 4]\n"
     ]
    }
   ],
   "source": [
    "print(searchRange_imitage([1],1))\n",
    "print(\"=\"*50)\n",
    "print(searchRange_imitage([2,2],2))\n",
    "print(\"=\"*50)\n",
    "print(searchRange_imitage([5,7,7,8,8,10],8))"
   ]
  },
  {
   "cell_type": "code",
   "execution_count": null,
   "metadata": {},
   "outputs": [],
   "source": []
  },
  {
   "cell_type": "code",
   "execution_count": null,
   "metadata": {},
   "outputs": [],
   "source": []
  }
 ],
 "metadata": {
  "kernelspec": {
   "display_name": "Python 3",
   "language": "python",
   "name": "python3"
  },
  "language_info": {
   "codemirror_mode": {
    "name": "ipython",
    "version": 3
   },
   "file_extension": ".py",
   "mimetype": "text/x-python",
   "name": "python",
   "nbconvert_exporter": "python",
   "pygments_lexer": "ipython3",
   "version": "3.7.5"
  }
 },
 "nbformat": 4,
 "nbformat_minor": 2
}
