{
 "cells": [
  {
   "cell_type": "markdown",
   "metadata": {},
   "source": [
    "# 29. Divide Two Integers\n",
    "\n",
    "https://leetcode.com/problems/divide-two-integers/"
   ]
  },
  {
   "cell_type": "code",
   "execution_count": 3,
   "metadata": {},
   "outputs": [],
   "source": [
    "\n",
    "#     def divide(self, dividend: int, divisor: int) -> int:\n",
    "#         from math import log10\n",
    "#         D, d, s, t = abs(dividend), abs(divisor), (dividend>0) - (dividend<0), (divisor>0)-(divisor<0)\n",
    "#         if d == 1 or d == -1:\n",
    "#             outcome = dividend*divisor\n",
    "#             if outcome > 0:\n",
    "#                 return min(outcome, 2**31 - 1)\n",
    "#             else:\n",
    "#                 return max(outcome, -2**31)\n",
    "#         if D<d:\n",
    "#             return 0\n",
    "        \n",
    "#         outcome = int(round(10**(log10(D)-log10(d)),3))\n",
    "#         if s*t>0:\n",
    "#             return min(outcome, 2**31 - 1)\n",
    "#         else:\n",
    "#             return max(-outcome, -2**31)\n",
    "\n",
    "\n",
    "###############################   Method 2   ###################################################\n",
    "def divide(dividend, divisor):\n",
    "    if dividend == -2147483648 and divisor == -1:\n",
    "        return 2147483647\n",
    "    if divisor == 1:\n",
    "        return dividend\n",
    "    negative = (dividend < 0) ^ (divisor < 0) # 或非运算，如果 y 对应位是0，那么结果位取 x 的对应位，如果 y 对应位是1，取 x 对应位的补\n",
    "    dvd = abs(dividend)\n",
    "    dvs = abs(divisor)\n",
    "    res = 0\n",
    "\n",
    "    while dvd >= dvs:\n",
    "        tmp = dvs # \n",
    "        print('temp = ', tmp)\n",
    "        m = 1\n",
    "        while tmp << 1 <= dvd:\n",
    "            tmp <<= 1 # tmp = tmp * 2\n",
    "            print(\"inner second while, tmp = \",tmp)\n",
    "            m <<= 1  # I am doubling m, which means m *= 2\n",
    "            print(\"m = \",m)\n",
    "            # 当 tmp 不小于dvd时，dvd -= tmp; 此时商为m，故res+=m\n",
    "        dvd -= tmp # dvd = dvd - tmp \n",
    "        res += m # res  = res + m\n",
    "\n",
    "    if not negative:\n",
    "        return res\n",
    "    else:\n",
    "        return ~res + 1"
   ]
  },
  {
   "cell_type": "code",
   "execution_count": 4,
   "metadata": {},
   "outputs": [
    {
     "name": "stdout",
     "output_type": "stream",
     "text": [
      "temp =  5\n",
      "inner second while, tmp =  10\n",
      "m =  2\n",
      "inner second while, tmp =  20\n",
      "m =  4\n",
      "inner second while, tmp =  40\n",
      "m =  8\n",
      "temp =  5\n",
      "inner second while, tmp =  10\n",
      "m =  2\n"
     ]
    },
    {
     "data": {
      "text/plain": [
       "10"
      ]
     },
     "execution_count": 4,
     "metadata": {},
     "output_type": "execute_result"
    }
   ],
   "source": [
    "divide(50,5)"
   ]
  },
  {
   "cell_type": "markdown",
   "metadata": {},
   "source": [
    "# 30\n",
    "\n",
    "#### 题目：Substring with concantation of ALL words\n",
    "\n",
    "https://leetcode.com/problems/substring-with-concatenation-of-all-words/\n"
   ]
  },
  {
   "cell_type": "markdown",
   "metadata": {},
   "source": [
    "根据一个视频的思路，自己写的方法：\n",
    "\n",
    "[视频地址](https://www.bilibili.com/video/av66523403?from=search&seid=8057520409883538579)\n"
   ]
  },
  {
   "cell_type": "code",
   "execution_count": 2,
   "metadata": {},
   "outputs": [],
   "source": [
    "class Solution:\n",
    "    def findSubstring(self, s: str, words: List[str]) -> List[int]:\n",
    "        if not words:\n",
    "            return []\n",
    "        final_outcome = []\n",
    "        wordlength = len(words[0])\n",
    "        all_length = len(words)*wordlength\n",
    "        start=0\n",
    "        while start < (len(s)-all_length+1): # outer loop\n",
    "            words_inner = words[:]\n",
    "            for i in range(start, start + all_length, wordlength): # inner loop\n",
    "    #             print(i)\n",
    "    #             print(s[i:i+wordlength])\n",
    "                if s[i:i+wordlength] in words_inner:\n",
    "                    words_inner.remove(s[i:i+wordlength])\n",
    "                else:\n",
    "                    break\n",
    "    #         print(words_inner, i)\n",
    "            if words_inner == [] and i == start+all_length-wordlength:\n",
    "                final_outcome.append(start)\n",
    "                start += 1\n",
    "            else:\n",
    "                start += 1\n",
    "        return final_outcome"
   ]
  },
  {
   "cell_type": "markdown",
   "metadata": {},
   "source": [
    "别人的最快解法， 利用了余数的思想，即从最开始到指定字符串之间的滑动窗口必定会完全框住，在起始为0 -- l 之间。\n",
    "\n",
    "解释：\n",
    "\n",
    "设单个词的长度为 l，有m个词，则窗口长度为 ml\n",
    "对于目标字符串总长度为 ml，对于其前n个词来说，在某处开始滑动时，必定会将substring中第一个词作为滑动窗口的第一个词。只要substring作为滑动窗口第一个词，那么substring连续的最后一个单词为窗口的最后一个词。\n",
    "\n",
    "则总共有 n%l 的余数个可能的起始点需要尝试，即 0, 1, ... l-1. 所以，外循环为 for i in range(l)， 决定了起始点\n",
    "\n",
    "\n",
    "然而在内循环，index和endIndex不断地相互利用window更新，直到长度小于s结束该次外循环遍历，进入下一次外循环遍历。\n",
    "\n",
    "\n",
    "一个字，牛逼"
   ]
  },
  {
   "cell_type": "code",
   "execution_count": null,
   "metadata": {},
   "outputs": [],
   "source": [
    "class Solution:\n",
    "    def findSubstring(self, s: str, words: List[str]) -> List[int]:\n",
    "        if not words or len(s) < len(words[0]):\n",
    "            return []\n",
    "        wordCount = {}\n",
    "        for w in words:\n",
    "            if w in wordCount:\n",
    "                wordCount[w] += 1\n",
    "            else:\n",
    "                wordCount[w] = 1\n",
    "        l = len(words[0])\n",
    "        window = l * len(words)\n",
    "        output = []\n",
    "        for i in range(l): # 外层遍历居然是 单个单词的长度？\n",
    "            index = i\n",
    "            while index + window <= len(s): # 遍历 index+window小于string s 的长度。\n",
    "                memo = dict(wordCount) # memo 复制wordcount 的dict\n",
    "                endIndex = index + window # 从最后看起\n",
    "                shouldBreak = False\n",
    "                while endIndex > index: # \n",
    "                    w = s[endIndex-l:endIndex] # window中最后一个单词\n",
    "                    if not w in memo or memo[w] <= 0: # 判断是不是离开当前while循环\n",
    "                        shouldBreak = True\n",
    "                        break\n",
    "                    memo[w] -= 1 # 否则dic 相应单词的频数 - 1\n",
    "                    endIndex -= l #　endIndx - 1\n",
    "                if shouldBreak: # 如果应该break， 那么 index 设为end Index？ 从下一次可能的成功开始\n",
    "                    index = endIndex\n",
    "                    continue\n",
    "                output.append(index)\n",
    "                index += l\n",
    "                print(index)\n",
    "                \n",
    "        return output"
   ]
  },
  {
   "cell_type": "code",
   "execution_count": 6,
   "metadata": {},
   "outputs": [],
   "source": [
    "a = {\"a\":1,'b':2}\n",
    "b = a.copy()"
   ]
  },
  {
   "cell_type": "code",
   "execution_count": 7,
   "metadata": {},
   "outputs": [],
   "source": [
    "del a['a']"
   ]
  },
  {
   "cell_type": "code",
   "execution_count": 11,
   "metadata": {},
   "outputs": [],
   "source": [
    "del a['b']"
   ]
  },
  {
   "cell_type": "code",
   "execution_count": 12,
   "metadata": {},
   "outputs": [
    {
     "data": {
      "text/plain": [
       "True"
      ]
     },
     "execution_count": 12,
     "metadata": {},
     "output_type": "execute_result"
    }
   ],
   "source": [
    "a == dict()"
   ]
  },
  {
   "cell_type": "code",
   "execution_count": 34,
   "metadata": {},
   "outputs": [],
   "source": [
    "def findSubstring(s, words):\n",
    "    if not words or len(s) < len(words[0]):\n",
    "        return []\n",
    "    wordCount = {}\n",
    "    for w in words:\n",
    "        if w in wordCount:\n",
    "            wordCount[w] += 1\n",
    "        else:\n",
    "            wordCount[w] = 1\n",
    "    l = len(words[0])\n",
    "    window = l * len(words)\n",
    "    output = []\n",
    "    for i in range(l): # 外层遍历居然是 单个单词的长度？\n",
    "        print(\"i: \",i)\n",
    "        index = i\n",
    "        while index + window <= len(s): # 遍历 index+window小于string s 的长度。\n",
    "            print(\"index inner start\", index)\n",
    "            memo = dict(wordCount) # memo 复制wordcount 的dict\n",
    "            endIndex = index + window # 从最后看起\n",
    "            print(\"end index is\",endIndex,'\\n\\n'+\"the string in the middle is\",s[index:endIndex])\n",
    "            shouldBreak = False\n",
    "            while endIndex > index: # \n",
    "                w = s[endIndex-l:endIndex] # window中最后一个单词\n",
    "                if not w in memo or memo[w] <= 0: # 判断是不是离开当前while循环\n",
    "                    shouldBreak = True\n",
    "                    break\n",
    "                memo[w] -= 1 # 否则dic 相应单词的频数 - 1\n",
    "                endIndex -= l #　endIndx - 1\n",
    "            if shouldBreak: # 如果应该break， 那么 index 设为end Index？ 从下一次可能的成功开始\n",
    "                index = endIndex\n",
    "                continue\n",
    "            output.append(index)\n",
    "            index += l\n",
    "            print('index inner end',index)\n",
    "        print(index, 'outer')\n",
    "    return output"
   ]
  },
  {
   "cell_type": "code",
   "execution_count": 35,
   "metadata": {},
   "outputs": [
    {
     "name": "stdout",
     "output_type": "stream",
     "text": [
      "i:  0\n",
      "index inner start 0\n",
      "end index is 12 \n",
      "\n",
      "the string in the middle is asfasdfas-fo\n",
      "index inner start 12\n",
      "end index is 24 \n",
      "\n",
      "the string in the middle is obartheqoo-l\n",
      "index inner start 24\n",
      "end index is 36 \n",
      "\n",
      "the string in the middle is slffflaskjfd\n",
      "index inner start 36\n",
      "end index is 48 \n",
      "\n",
      "the string in the middle is -barfootheqo\n",
      "48 outer\n",
      "i:  1\n",
      "index inner start 1\n",
      "end index is 13 \n",
      "\n",
      "the string in the middle is sfasdfas-foo\n",
      "index inner start 10\n",
      "end index is 22 \n",
      "\n",
      "the string in the middle is foobartheqoo\n",
      "index inner end 13\n",
      "index inner start 13\n",
      "end index is 25 \n",
      "\n",
      "the string in the middle is bartheqoo-ls\n",
      "index inner start 25\n",
      "end index is 37 \n",
      "\n",
      "the string in the middle is lffflaskjfd-\n",
      "index inner start 37\n",
      "end index is 49 \n",
      "\n",
      "the string in the middle is barfootheqoo\n",
      "index inner end 40\n",
      "40 outer\n",
      "i:  2\n",
      "index inner start 2\n",
      "end index is 14 \n",
      "\n",
      "the string in the middle is fasdfas-foob\n",
      "index inner start 14\n",
      "end index is 26 \n",
      "\n",
      "the string in the middle is artheqoo-lsl\n",
      "index inner start 26\n",
      "end index is 38 \n",
      "\n",
      "the string in the middle is ffflaskjfd-b\n",
      "38 outer\n"
     ]
    },
    {
     "data": {
      "text/plain": [
       "[10, 37]"
      ]
     },
     "execution_count": 35,
     "metadata": {},
     "output_type": "execute_result"
    }
   ],
   "source": [
    "findSubstring(\"asfasdfas-foobartheqoo-lslffflaskjfd-barfootheqoo\",['foo','bar','the','qoo'])"
   ]
  },
  {
   "cell_type": "markdown",
   "metadata": {},
   "source": [
    "# 31"
   ]
  },
  {
   "cell_type": "code",
   "execution_count": null,
   "metadata": {},
   "outputs": [],
   "source": []
  }
 ],
 "metadata": {
  "kernelspec": {
   "display_name": "Python 3",
   "language": "python",
   "name": "python3"
  },
  "language_info": {
   "codemirror_mode": {
    "name": "ipython",
    "version": 3
   },
   "file_extension": ".py",
   "mimetype": "text/x-python",
   "name": "python",
   "nbconvert_exporter": "python",
   "pygments_lexer": "ipython3",
   "version": "3.6.9"
  }
 },
 "nbformat": 4,
 "nbformat_minor": 2
}
