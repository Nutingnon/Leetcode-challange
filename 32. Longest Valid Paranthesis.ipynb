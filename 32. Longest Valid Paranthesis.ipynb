{
 "cells": [
  {
   "cell_type": "markdown",
   "metadata": {},
   "source": [
    "https://leetcode.com/problems/longest-valid-parentheses/"
   ]
  },
  {
   "cell_type": "markdown",
   "metadata": {},
   "source": [
    "Given a string containing just the characters '(' and ')', find the length of the longest valid (well-formed) parentheses substring.\n",
    "\n",
    "Example 1:\n",
    "\n",
    "Input: \"(()\"\n",
    "Output: 2\n",
    "Explanation: The longest valid parentheses substring is \"()\"\n",
    "Example 2:\n",
    "\n",
    "Input: \")()())\"\n",
    "Output: 4\n",
    "Explanation: The longest valid parentheses substring is \"()()\""
   ]
  },
  {
   "cell_type": "markdown",
   "metadata": {},
   "source": [
    "----------\n",
    "难点在于如何处理这种类型的括号序列： (()，()(()"
   ]
  },
  {
   "cell_type": "markdown",
   "metadata": {},
   "source": [
    "# Dynamic Programming Methods"
   ]
  },
  {
   "cell_type": "markdown",
   "metadata": {},
   "source": [
    "### 1. use stack"
   ]
  },
  {
   "cell_type": "code",
   "execution_count": 8,
   "metadata": {},
   "outputs": [],
   "source": [
    "def longestValidParentheses(s):\n",
    "    max_len = 0\n",
    "    # Use dictionary not list to reduce time\n",
    "    start_pos = {} # DP1 variable\n",
    "    stack = []\n",
    "    for i in range(len(s)):\n",
    "        if s[i] == '(':\n",
    "            stack.append(i)\n",
    "            print(\"append operation\", stack)\n",
    "        else:\n",
    "            #Only the valid ')' has a chance to change max_len\n",
    "            if stack:\n",
    "                last = stack.pop()\n",
    "                print(\"pop operation\", stack)\n",
    "                print(\"last: \", last)\n",
    "                print(\"i = \", i)\n",
    "                start_pos[i] = last # DP2 State\n",
    "                #If the ')' right before '(' matching current valid '(' is also valid\n",
    "                if (last-1) in start_pos.keys():\n",
    "                    print(\"last - 1 is\", last-1)\n",
    "                    #Set start position of current ')' to the start position of the former ')'\n",
    "                    start_pos[i] = start_pos[last - 1] # DP2 State\n",
    "                max_len = max(max_len, i - start_pos[i] + 1) #DP3 Transit\n",
    "    return max_len"
   ]
  },
  {
   "cell_type": "code",
   "execution_count": 9,
   "metadata": {},
   "outputs": [
    {
     "name": "stdout",
     "output_type": "stream",
     "text": [
      "append operation [1]\n",
      "pop operation []\n",
      "last:  1\n",
      "i =  2\n",
      "append operation [3]\n",
      "pop operation []\n",
      "last:  3\n",
      "i =  4\n",
      "last - 1 is 2\n"
     ]
    },
    {
     "data": {
      "text/plain": [
       "4"
      ]
     },
     "execution_count": 9,
     "metadata": {},
     "output_type": "execute_result"
    }
   ],
   "source": [
    "# if without the line 15, 17, the following examples would return wrong value\n",
    "longestValidParentheses(\")()())\")"
   ]
  },
  {
   "cell_type": "markdown",
   "metadata": {},
   "source": [
    "### 2 挺牛逼的一个思路"
   ]
  },
  {
   "cell_type": "code",
   "execution_count": 10,
   "metadata": {},
   "outputs": [],
   "source": [
    "def longestValidParentheses(s):\n",
    "    \"\"\"\n",
    "    :type s: str\n",
    "    :rtype: int\n",
    "    \"\"\"\n",
    "    stack = [0] \n",
    "    longest = 0\n",
    "\n",
    "    for c in s:\n",
    "        if c == \"(\":\n",
    "            stack.append(0) # 碰到了左括号则加一个0\n",
    "        else: #如果碰到右括号了：\n",
    "            if len(stack) > 1: # if left braket exists\n",
    "                val = stack.pop() \n",
    "                stack[-1] += val + 2 # the corresponding longest value += 2.\n",
    "                longest = max(longest, stack[-1])\n",
    "            else:\n",
    "                stack = [0]\n",
    "                \n",
    "    return longest"
   ]
  },
  {
   "cell_type": "code",
   "execution_count": 11,
   "metadata": {},
   "outputs": [
    {
     "name": "stdout",
     "output_type": "stream",
     "text": [
      "[0, 0]\n",
      "[2]\n",
      "[2, 0]\n",
      "[2, 0, 0]\n",
      "[2, 2]\n"
     ]
    },
    {
     "data": {
      "text/plain": [
       "2"
      ]
     },
     "execution_count": 11,
     "metadata": {},
     "output_type": "execute_result"
    }
   ],
   "source": [
    "longestValidParentheses(\"()(()\")"
   ]
  }
 ],
 "metadata": {
  "kernelspec": {
   "display_name": "Python 3",
   "language": "python",
   "name": "python3"
  },
  "language_info": {
   "codemirror_mode": {
    "name": "ipython",
    "version": 3
   },
   "file_extension": ".py",
   "mimetype": "text/x-python",
   "name": "python",
   "nbconvert_exporter": "python",
   "pygments_lexer": "ipython3",
   "version": "3.7.7"
  }
 },
 "nbformat": 4,
 "nbformat_minor": 2
}
