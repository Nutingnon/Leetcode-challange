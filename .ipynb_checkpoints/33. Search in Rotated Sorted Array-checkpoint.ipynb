{
 "cells": [
  {
   "cell_type": "markdown",
   "metadata": {},
   "source": [
    "https://leetcode.com/problems/search-in-rotated-sorted-array/"
   ]
  },
  {
   "cell_type": "code",
   "execution_count": null,
   "metadata": {},
   "outputs": [],
   "source": [
    "def rotate_search(list1, value1):\n",
    "    start = 0\n",
    "    end = len(nums)-1\n",
    "    while start <= end:\n",
    "        mid = (start+end)//2\n",
    "\n",
    "        if nums[mid] == target:\n",
    "            return mid\n",
    "        else:\n",
    "            if nums[mid]>target:\n",
    "                if target<= nums[end] and nums[mid]>nums[end]:\n",
    "                    start = mid+1\n",
    "                else:\n",
    "                    end = mid - 1\n",
    "\n",
    "            else: # nums[mid] < target\n",
    "                if nums[start] <= target and nums[mid]<nums[start]:\n",
    "                    end = mid - 1\n",
    "\n",
    "                else:\n",
    "                    start = mid + 1\n",
    "    return -1"
   ]
  },
  {
   "cell_type": "markdown",
   "metadata": {},
   "source": [
    "还是利用了binary search 的方法，在中间时增加一个判断rotation方向的条件"
   ]
  },
  {
   "cell_type": "code",
   "execution_count": null,
   "metadata": {},
   "outputs": [],
   "source": []
  }
 ],
 "metadata": {
  "kernelspec": {
   "display_name": "Python 3",
   "language": "python",
   "name": "python3"
  },
  "language_info": {
   "codemirror_mode": {
    "name": "ipython",
    "version": 3
   },
   "file_extension": ".py",
   "mimetype": "text/x-python",
   "name": "python",
   "nbconvert_exporter": "python",
   "pygments_lexer": "ipython3",
   "version": "3.7.5"
  }
 },
 "nbformat": 4,
 "nbformat_minor": 2
}
